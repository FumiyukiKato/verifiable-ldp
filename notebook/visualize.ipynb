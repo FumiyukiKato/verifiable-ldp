{
 "cells": [
  {
   "cell_type": "code",
   "execution_count": 1,
   "id": "acknowledged-promise",
   "metadata": {},
   "outputs": [],
   "source": [
    "import numpy as np\n",
    "from matplotlib import pyplot as plt\n",
    "import seaborn as sns\n",
    "\n",
    "import pprint\n",
    "import sys\n",
    "import pathlib\n",
    "parent_path = pathlib.Path.cwd().parent\n",
    "sys.path.append(str(parent_path))\n",
    "import socket\n",
    "import time\n",
    "\n",
    "from simpleByteProtocol import simpleRecv, simpleSend\n",
    "from util import MESSAGE_TYPE, pprintResult\n",
    "import krr\n",
    "import oue\n",
    "import olh"
   ]
  },
  {
   "cell_type": "code",
   "execution_count": 2,
   "id": "necessary-insert",
   "metadata": {},
   "outputs": [],
   "source": [
    "sns.set()"
   ]
  },
  {
   "cell_type": "markdown",
   "id": "moving-necklace",
   "metadata": {},
   "source": [
    "## DecideSharedParameters\n",
    "\n",
    "- 大体カテゴリ数の50倍~100倍くらいあれば近似精度は十分そう\n",
    "- イプシロンが小さいと近似精度が低い傾向"
   ]
  },
  {
   "cell_type": "code",
   "execution_count": null,
   "id": "opponent-neighborhood",
   "metadata": {
    "scrolled": false
   },
   "outputs": [],
   "source": [
    "epsilon = 5\n",
    "width = 100\n",
    "cate_num = 10\n",
    "categories = list(range(0, cate_num))\n",
    "\n",
    "data = {'epsilon': [], 'probability': []}\n",
    "correct_data = {'epsilon': [], 'probability': []}\n",
    "\n",
    "for i in range(0, 100):\n",
    "    eps = epsilon * i / 100\n",
    "    d, l, n, z = krr.buildKrrParams(eps, width, categories)\n",
    "    data['epsilon'].append(eps)\n",
    "    data['probability'].append(l/n)\n",
    "    ratio = np.exp(eps) / ((d-1) + np.exp(eps))\n",
    "    correct_data['epsilon'].append(eps)\n",
    "    correct_data['probability'].append(ratio)\n",
    "\n",
    "fig = plt.figure(dpi=100)\n",
    "ax1 = fig.add_subplot(1, 1, 1) \n",
    "\n",
    "sns.lineplot(x=\"epsilon\", y=\"probability\", data=data, ax=ax1)\n",
    "sns.lineplot(x=\"epsilon\", y=\"probability\", data=correct_data, ax=ax1)\n",
    "ax1.set_title('approximate probability (width=%d)'% width)\n",
    "plt.show()\n",
    "fig.savefig('dsp-width100-cate10.png')"
   ]
  },
  {
   "cell_type": "code",
   "execution_count": null,
   "id": "acting-government",
   "metadata": {},
   "outputs": [],
   "source": [
    "epsilon = 5\n",
    "width = 1000\n",
    "cate_num = 10\n",
    "categories = list(range(0, cate_num))\n",
    "\n",
    "data = {'epsilon': [], 'probability': []}\n",
    "correct_data = {'epsilon': [], 'probability': []}\n",
    "\n",
    "for i in range(0, 100):\n",
    "    eps = epsilon * i / 100\n",
    "    d, l, n, z = krr.buildKrrParams(eps, width, categories)\n",
    "    data['epsilon'].append(eps)\n",
    "    data['probability'].append(l/n)\n",
    "    ratio = np.exp(eps) / ((d-1) + np.exp(eps))\n",
    "    correct_data['epsilon'].append(eps)\n",
    "    correct_data['probability'].append(ratio)\n",
    "\n",
    "fig = plt.figure(dpi=100)\n",
    "ax1 = fig.add_subplot(1, 1, 1) \n",
    "\n",
    "sns.lineplot(x=\"epsilon\", y=\"probability\", data=data, ax=ax1)\n",
    "sns.lineplot(x=\"epsilon\", y=\"probability\", data=correct_data, ax=ax1)\n",
    "ax1.set_title('approximate probability (width=%d)'% width)\n",
    "plt.show()\n",
    "fig.savefig('dsp-width1000-cate10.png')"
   ]
  },
  {
   "cell_type": "code",
   "execution_count": null,
   "id": "animal-cameroon",
   "metadata": {
    "scrolled": false
   },
   "outputs": [],
   "source": [
    "epsilon = 5\n",
    "width = 1000\n",
    "cate_num = 50\n",
    "categories = list(range(0, cate_num))\n",
    "\n",
    "data = {'epsilon': [], 'probability': []}\n",
    "correct_data = {'epsilon': [], 'probability': []}\n",
    "\n",
    "for i in range(0, 100):\n",
    "    eps = epsilon * i / 100\n",
    "    d, l, n, z = krr.buildKrrParams(eps, width, categories)\n",
    "    data['epsilon'].append(eps)\n",
    "    data['probability'].append(l/n)\n",
    "    ratio = np.exp(eps) / ((d-1) + np.exp(eps))\n",
    "    correct_data['epsilon'].append(eps)\n",
    "    correct_data['probability'].append(ratio)\n",
    "\n",
    "fig = plt.figure(dpi=100)\n",
    "ax1 = fig.add_subplot(1, 1, 1) \n",
    "\n",
    "sns.lineplot(x=\"epsilon\", y=\"probability\", data=data, ax=ax1)\n",
    "sns.lineplot(x=\"epsilon\", y=\"probability\", data=correct_data, ax=ax1)\n",
    "ax1.set_title('approximate probability (width=%d)'% width)\n",
    "plt.show()\n",
    "fig.savefig('dsp-width1000-cate50.png')"
   ]
  },
  {
   "cell_type": "code",
   "execution_count": null,
   "id": "turned-martial",
   "metadata": {},
   "outputs": [],
   "source": [
    "epsilon = 5\n",
    "width = 5000\n",
    "cate_num = 50\n",
    "categories = list(range(0, cate_num))\n",
    "\n",
    "data = {'epsilon': [], 'probability': []}\n",
    "correct_data = {'epsilon': [], 'probability': []}\n",
    "\n",
    "for i in range(0, 100):\n",
    "    eps = epsilon * i / 100\n",
    "    d, l, n, z = krr.buildKrrParams(eps, width, categories)\n",
    "    data['epsilon'].append(eps)\n",
    "    data['probability'].append(l/n)\n",
    "    ratio = np.exp(eps) / ((d-1) + np.exp(eps))\n",
    "    correct_data['epsilon'].append(eps)\n",
    "    correct_data['probability'].append(ratio)\n",
    "\n",
    "fig = plt.figure(dpi=100)\n",
    "ax1 = fig.add_subplot(1, 1, 1) \n",
    "\n",
    "sns.lineplot(x=\"epsilon\", y=\"probability\", data=data, ax=ax1)\n",
    "sns.lineplot(x=\"epsilon\", y=\"probability\", data=correct_data, ax=ax1)\n",
    "ax1.set_title('approximate probability (width=%d)'% width)\n",
    "plt.show()\n",
    "fig.savefig('dsp-width5000-cate50.png')"
   ]
  },
  {
   "cell_type": "markdown",
   "id": "billion-diana",
   "metadata": {},
   "source": [
    "## Methods KRR, OUE, OLH"
   ]
  },
  {
   "cell_type": "code",
   "execution_count": null,
   "id": "rational-ottawa",
   "metadata": {
    "scrolled": false
   },
   "outputs": [],
   "source": [
    "epsilon = 1.0\n",
    "width = 100\n",
    "cate_num = 10\n",
    "categories = list(range(0, cate_num))\n",
    "secret_input = 2\n",
    "\n",
    "krr.runOnMemory(categories, epsilon, secret_input, width)"
   ]
  },
  {
   "cell_type": "code",
   "execution_count": null,
   "id": "looking-chambers",
   "metadata": {},
   "outputs": [],
   "source": [
    "# krr\n",
    "epsilon = 1.0\n",
    "width = 100\n",
    "cate_num = 10\n",
    "categories = list(range(0, cate_num))\n",
    "\n",
    "time_data = {'category size': [], 'time [s]': []}\n",
    "bandwidth_data = {'category size': [], 'bandwidth [KB]': []}\n",
    "\n",
    "\n",
    "# ファイルから読み込む感じにする\n",
    "\n",
    "\n",
    "fig = plt.figure(dpi=100)\n",
    "ax1 = fig.add_subplot(1, 1, 1) \n",
    "\n",
    "sns.lineplot(x=\"category size\", y=\"time [s]\", data=time_data, ax=ax1)\n",
    "plt.show()\n",
    "fig.savefig('krr-time.png')\n",
    "\n",
    "\n",
    "fig = plt.figure(dpi=100)\n",
    "ax1 = fig.add_subplot(1, 1, 1) \n",
    "\n",
    "sns.lineplot(x=\"category size\", y=\"bandwidth [KB]\", data=bandwidth_data, ax=ax1)\n",
    "plt.show()\n",
    "fig.savefig('krr-bandwidth.png')"
   ]
  },
  {
   "cell_type": "code",
   "execution_count": 3,
   "id": "norwegian-clause",
   "metadata": {},
   "outputs": [
    {
     "name": "stdout",
     "output_type": "stream",
     "text": [
      "secret input:  2\n",
      "sigma:  [94, 2, 32, 90, 88, 89, 83, 79, 76, 60]\n",
      "secret output:  [0, 1, 1, 0, 1, 1, 1, 1, 0, 1]\n",
      "####### P1 verification #######\n",
      "OK.\n",
      "####### P2 verification #######\n",
      "OK.\n",
      "OK.\n",
      "{'type': <MESSAGE_TYPE.OK: 6>}\n",
      "+-----------------------------+-----------------------+\n",
      "|             name            |         value         |\n",
      "+-----------------------------+-----------------------+\n",
      "|        setup time [s]       |  0.009792089462280273 |\n",
      "| MESSAGE_TYPE.START size [B] |          848          |\n",
      "|        step2 time [s]       |  0.01859307289123535  |\n",
      "| MESSAGE_TYPE.STEP2 size [B] |         22611         |\n",
      "|        step4 time [s]       | 0.0050389766693115234 |\n",
      "| MESSAGE_TYPE.STEP4 size [B] |           52          |\n",
      "|         overall time        |   0.7252869606018066  |\n",
      "+-----------------------------+-----------------------+\n",
      "+-----------------------------+-----------------------+\n",
      "|             name            |         value         |\n",
      "+-----------------------------+-----------------------+\n",
      "|        step1 time [s]       |   0.6905636787414551  |\n",
      "| MESSAGE_TYPE.STEP1 size [B] |         91708         |\n",
      "|        step3 time [s]       | 9.799003601074219e-05 |\n",
      "| MESSAGE_TYPE.STEP3 size [B] |          1327         |\n",
      "+-----------------------------+-----------------------+\n"
     ]
    }
   ],
   "source": [
    "epsilon = 1.0\n",
    "width = 100\n",
    "cate_num = 10\n",
    "categories = list(range(0, cate_num))\n",
    "secret_input = 2\n",
    "\n",
    "oue.runOnMemory(categories, epsilon, secret_input, width)"
   ]
  },
  {
   "cell_type": "code",
   "execution_count": null,
   "id": "acute-perspective",
   "metadata": {},
   "outputs": [],
   "source": [
    "epsilon = 1.0\n",
    "width = 100\n",
    "cate_num = 10\n",
    "categories = list(range(0, cate_num))\n",
    "secret_input = 2\n",
    "g = 5\n",
    "\n",
    "olh.runOnMemory(categories, epsilon, secret_input, width, g)"
   ]
  },
  {
   "cell_type": "code",
   "execution_count": null,
   "id": "suitable-policy",
   "metadata": {},
   "outputs": [],
   "source": []
  }
 ],
 "metadata": {
  "kernelspec": {
   "display_name": "Python 3",
   "language": "python",
   "name": "python3"
  },
  "language_info": {
   "codemirror_mode": {
    "name": "ipython",
    "version": 3
   },
   "file_extension": ".py",
   "mimetype": "text/x-python",
   "name": "python",
   "nbconvert_exporter": "python",
   "pygments_lexer": "ipython3",
   "version": "3.9.1"
  }
 },
 "nbformat": 4,
 "nbformat_minor": 5
}
